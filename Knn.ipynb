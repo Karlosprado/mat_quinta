{
 "cells": [
  {
   "cell_type": "markdown",
   "metadata": {},
   "source": [
    "## Fazendo o KNN usando numpy e pandas"
   ]
  },
  {
   "cell_type": "code",
   "execution_count": 1,
   "metadata": {},
   "outputs": [],
   "source": [
    "import numpy as np\n",
    "import pandas as pd"
   ]
  },
  {
   "cell_type": "code",
   "execution_count": 2,
   "metadata": {},
   "outputs": [],
   "source": [
    "# temos 2 vetores e queremos saber a distancia euclidiana entre eles\n",
    "x_vetor = np.array([5,7,9])\n",
    "y_vetor = np.array([5,5,5])"
   ]
  },
  {
   "cell_type": "markdown",
   "metadata": {},
   "source": [
    "    # Qual a fórmula da distãncia euclidiana?\n",
    "\n",
    "$$DE (x,y) = \\sqrt{\\sum_{i}^{p}(x_{i}-y_{i})^{2} }$$\n",
    "\n",
    "DE = Distancia Euclidiana"
   ]
  },
  {
   "cell_type": "markdown",
   "metadata": {},
   "source": [
    "    # Como fazer a subtração de cada posição do vetor (iteração)?\n",
    "\n",
    "$(x_{i}-y_{i})$\n",
    "\n",
    "$(x_{0}-y_{0}) = (5-5)$\n",
    "\n",
    "$(x_{1}-y_{1}) = (7-5)$\n",
    "\n",
    "$(x_{2}-y_{2}) = (9-5)$"
   ]
  },
  {
   "cell_type": "code",
   "execution_count": 7,
   "metadata": {},
   "outputs": [
    {
     "data": {
      "text/plain": [
       "array([0, 2, 4])"
      ]
     },
     "execution_count": 7,
     "metadata": {},
     "output_type": "execute_result"
    }
   ],
   "source": [
    "# subtração de cada posição do vetor\n",
    "de = x_vetor - y_vetor\n",
    "de"
   ]
  },
  {
   "cell_type": "markdown",
   "metadata": {},
   "source": [
    "    # Como elevar ao quadrado cada valor?\n",
    "   \n",
    "$(x_{i}-y_{i})^{2}$\n",
    "\n",
    "$(0)^{2}$\n",
    "\n",
    "$(2)^{2}$\n",
    "\n",
    "$(5)^{2}$"
   ]
  },
  {
   "cell_type": "code",
   "execution_count": 8,
   "metadata": {},
   "outputs": [
    {
     "data": {
      "text/plain": [
       "array([ 0,  4, 16])"
      ]
     },
     "execution_count": 8,
     "metadata": {},
     "output_type": "execute_result"
    }
   ],
   "source": [
    "# elevação ao quadrado\n",
    "de = de**2\n",
    "de"
   ]
  },
  {
   "cell_type": "markdown",
   "metadata": {},
   "source": [
    "        # Como fazer o somatório dos elementos?\n",
    "$(0) + (4) + (16) = (?)$"
   ]
  },
  {
   "cell_type": "code",
   "execution_count": 15,
   "metadata": {},
   "outputs": [
    {
     "data": {
      "text/plain": [
       "20"
      ]
     },
     "execution_count": 15,
     "metadata": {},
     "output_type": "execute_result"
    }
   ],
   "source": [
    "# somatório dos elementos\n",
    "de = de.sum()\n",
    "de"
   ]
  },
  {
   "cell_type": "markdown",
   "metadata": {},
   "source": [
    "        # Como tirar a raiz quadrada?\n",
    "$\\sqrt{(20)} = 4.47...$"
   ]
  },
  {
   "cell_type": "code",
   "execution_count": 16,
   "metadata": {},
   "outputs": [
    {
     "data": {
      "text/plain": [
       "4.4721359549995796"
      ]
     },
     "execution_count": 16,
     "metadata": {},
     "output_type": "execute_result"
    }
   ],
   "source": [
    "de = np.sqrt(de)\n",
    "de"
   ]
  },
  {
   "cell_type": "markdown",
   "metadata": {},
   "source": [
    "## Exemplo usando Pandas DataFrame"
   ]
  },
  {
   "cell_type": "code",
   "execution_count": 18,
   "metadata": {},
   "outputs": [
    {
     "data": {
      "text/plain": [
       "array(['Invocacao do Mal', 'Floresta Maldita', 'Meu Passado Me Condena',\n",
       "       'Vizinhos 2', 'Deadpool', 'Tirando o Atraso'],\n",
       "      dtype='<U22')"
      ]
     },
     "execution_count": 18,
     "metadata": {},
     "output_type": "execute_result"
    }
   ],
   "source": [
    "# construindo o DataFrame\n",
    "# rotulos y\n",
    "filmes = np.array(['Invocacao do Mal','Floresta Maldita','Meu Passado Me Condena', 'Vizinhos 2', 'Deadpool', 'Tirando o Atraso'])\n",
    "filmes"
   ]
  },
  {
   "cell_type": "code",
   "execution_count": 20,
   "metadata": {},
   "outputs": [
    {
     "data": {
      "text/plain": [
       "array(['Violencia', 'Romance', 'Acao', 'Comedia'],\n",
       "      dtype='<U9')"
      ]
     },
     "execution_count": 20,
     "metadata": {},
     "output_type": "execute_result"
    }
   ],
   "source": [
    "# rotulos x\n",
    "tipos = np.array(['Violencia', 'Romance', 'Acao', 'Comedia'])\n",
    "tipos"
   ]
  },
  {
   "cell_type": "code",
   "execution_count": 33,
   "metadata": {},
   "outputs": [
    {
     "data": {
      "text/plain": [
       "array([[ 0.6,  0. ,  0.3,  0. ],\n",
       "       [ 0.9,  0. ,  0.5,  0.1],\n",
       "       [ 0.1,  0.2,  0.1,  0.9],\n",
       "       [ 0. ,  0.1,  0.2,  0.8],\n",
       "       [ 0.5,  0. ,  0.7,  0.1],\n",
       "       [ 0. ,  0.2,  0.2,  0.8]])"
      ]
     },
     "execution_count": 33,
     "metadata": {},
     "output_type": "execute_result"
    }
   ],
   "source": [
    "# valores dos atributos\n",
    "valores = np.array([[0.6,0.0,0.3,0.0],\n",
    "                    [0.9,0.0,0.5,0.1],\n",
    "                    [0.1,0.2,0.1,0.9],\n",
    "                    [0.0,0.1,0.2,0.8],\n",
    "                    [0.5,0.0,0.7,0.1],\n",
    "                    [0.0,0.2,0.2,0.8]])\n",
    "valores"
   ]
  },
  {
   "cell_type": "code",
   "execution_count": 38,
   "metadata": {},
   "outputs": [
    {
     "data": {
      "text/html": [
       "<div>\n",
       "<style>\n",
       "    .dataframe thead tr:only-child th {\n",
       "        text-align: right;\n",
       "    }\n",
       "\n",
       "    .dataframe thead th {\n",
       "        text-align: left;\n",
       "    }\n",
       "\n",
       "    .dataframe tbody tr th {\n",
       "        vertical-align: top;\n",
       "    }\n",
       "</style>\n",
       "<table border=\"1\" class=\"dataframe\">\n",
       "  <thead>\n",
       "    <tr style=\"text-align: right;\">\n",
       "      <th></th>\n",
       "      <th>Violencia</th>\n",
       "      <th>Romance</th>\n",
       "      <th>Acao</th>\n",
       "      <th>Comedia</th>\n",
       "    </tr>\n",
       "  </thead>\n",
       "  <tbody>\n",
       "    <tr>\n",
       "      <th>Invocacao do Mal</th>\n",
       "      <td>0.6</td>\n",
       "      <td>0.0</td>\n",
       "      <td>0.3</td>\n",
       "      <td>0.0</td>\n",
       "    </tr>\n",
       "    <tr>\n",
       "      <th>Floresta Maldita</th>\n",
       "      <td>0.9</td>\n",
       "      <td>0.0</td>\n",
       "      <td>0.5</td>\n",
       "      <td>0.1</td>\n",
       "    </tr>\n",
       "    <tr>\n",
       "      <th>Meu Passado Me Condena</th>\n",
       "      <td>0.1</td>\n",
       "      <td>0.2</td>\n",
       "      <td>0.1</td>\n",
       "      <td>0.9</td>\n",
       "    </tr>\n",
       "    <tr>\n",
       "      <th>Vizinhos 2</th>\n",
       "      <td>0.0</td>\n",
       "      <td>0.1</td>\n",
       "      <td>0.2</td>\n",
       "      <td>0.8</td>\n",
       "    </tr>\n",
       "    <tr>\n",
       "      <th>Deadpool</th>\n",
       "      <td>0.5</td>\n",
       "      <td>0.0</td>\n",
       "      <td>0.7</td>\n",
       "      <td>0.1</td>\n",
       "    </tr>\n",
       "    <tr>\n",
       "      <th>Tirando o Atraso</th>\n",
       "      <td>0.0</td>\n",
       "      <td>0.2</td>\n",
       "      <td>0.2</td>\n",
       "      <td>0.8</td>\n",
       "    </tr>\n",
       "  </tbody>\n",
       "</table>\n",
       "</div>"
      ],
      "text/plain": [
       "                        Violencia  Romance  Acao  Comedia\n",
       "Invocacao do Mal              0.6      0.0   0.3      0.0\n",
       "Floresta Maldita              0.9      0.0   0.5      0.1\n",
       "Meu Passado Me Condena        0.1      0.2   0.1      0.9\n",
       "Vizinhos 2                    0.0      0.1   0.2      0.8\n",
       "Deadpool                      0.5      0.0   0.7      0.1\n",
       "Tirando o Atraso              0.0      0.2   0.2      0.8"
      ]
     },
     "execution_count": 38,
     "metadata": {},
     "output_type": "execute_result"
    }
   ],
   "source": [
    "df = pd.DataFrame(data=valores, columns=tipos, index=filmes)\n",
    "df"
   ]
  },
  {
   "cell_type": "code",
   "execution_count": 41,
   "metadata": {},
   "outputs": [
    {
     "data": {
      "text/plain": [
       "Violencia    0.3\n",
       "Romance      0.0\n",
       "Acao         0.2\n",
       "Comedia      0.1\n",
       "dtype: float64"
      ]
     },
     "execution_count": 41,
     "metadata": {},
     "output_type": "execute_result"
    }
   ],
   "source": [
    "# Floresta Maldita vs. Invovacao do Mal\n",
    "df.iloc[1] - df.iloc[0]"
   ]
  },
  {
   "cell_type": "code",
   "execution_count": 42,
   "metadata": {},
   "outputs": [
    {
     "data": {
      "text/plain": [
       "Violencia    0.9\n",
       "Romance     -0.2\n",
       "Acao         0.3\n",
       "Comedia     -0.7\n",
       "dtype: float64"
      ]
     },
     "execution_count": 42,
     "metadata": {},
     "output_type": "execute_result"
    }
   ],
   "source": [
    "# Floresta Maldita vs. Invocacao do Mal\n",
    "df.iloc[1] - df.iloc[5]"
   ]
  },
  {
   "cell_type": "code",
   "execution_count": 43,
   "metadata": {},
   "outputs": [
    {
     "name": "stdout",
     "output_type": "stream",
     "text": [
      "Writing default config to: /Users/gilbertofilho/.jupyter/jupyter_notebook_config.py\r\n"
     ]
    }
   ],
   "source": [
    "!jupyter notebook --generate-config"
   ]
  },
  {
   "cell_type": "code",
   "execution_count": null,
   "metadata": {},
   "outputs": [],
   "source": []
  }
 ],
 "metadata": {
  "kernelspec": {
   "display_name": "Python 3",
   "language": "python",
   "name": "python3"
  },
  "language_info": {
   "codemirror_mode": {
    "name": "ipython",
    "version": 3
   },
   "file_extension": ".py",
   "mimetype": "text/x-python",
   "name": "python",
   "nbconvert_exporter": "python",
   "pygments_lexer": "ipython3",
   "version": "3.6.5"
  }
 },
 "nbformat": 4,
 "nbformat_minor": 2
}
